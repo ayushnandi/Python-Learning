{
 "cells": [
  {
   "cell_type": "code",
   "execution_count": null,
   "metadata": {},
   "outputs": [],
   "source": [
    "print(\"Enter Number :\")\n",
    "x = int(input())\n",
    "arr = []\n",
    "sum1 = 0\n",
    "sum2 = 1\n",
    "\n",
    "for n in range(2,x):\n",
    "    sum = sum1+sum2\n",
    "    sum1 = sum2\n",
    "    sum2 = sum\n",
    "    \n",
    "    \n",
    "ans = sum\n",
    "print(ans)"
   ]
  },
  {
   "cell_type": "code",
   "execution_count": null,
   "metadata": {},
   "outputs": [],
   "source": [
    "# def function()\n",
    "\n",
    "def sum(a , b ):\n",
    "    sum = a +b\n",
    "    return sum\n",
    "\n",
    "\n",
    "\n",
    "a = 5\n",
    "b = 3\n",
    "print(sum(a,b))"
   ]
  },
  {
   "cell_type": "code",
   "execution_count": null,
   "metadata": {},
   "outputs": [],
   "source": []
  }
 ],
 "metadata": {
  "language_info": {
   "name": "python"
  }
 },
 "nbformat": 4,
 "nbformat_minor": 2
}
